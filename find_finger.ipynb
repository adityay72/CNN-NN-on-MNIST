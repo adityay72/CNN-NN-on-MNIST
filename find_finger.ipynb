{
 "cells": [
  {
   "cell_type": "code",
   "execution_count": 3,
   "id": "0415d4fc",
   "metadata": {},
   "outputs": [],
   "source": [
    "import cv2\n",
    "import matplotlib.pyplot as plt\n",
    "# from imutils.video.webcamvideostream import WebcamVideoStream\n",
    "import numpy as np\n",
    "import imutils\n"
   ]
  },
  {
   "cell_type": "code",
   "execution_count": 4,
   "id": "2ae2ee9d",
   "metadata": {},
   "outputs": [],
   "source": [
    "def test_HSV(frame):\n",
    "    HSV_frame = cv2.cvtColor(frame, cv2.COLOR_BGR2HSV)\n",
    "    (H, S, V) = cv2.split(HSV_frame)\n",
    "    HH = cv2.equalizeHist(H)\n",
    "    SH = cv2.equalizeHist(S)\n",
    "    VH = cv2.equalizeHist(V)\n",
    "    HSV_H = cv2.merge((HH, SH, VH))\n",
    "    ret1, SH = cv2.threshold(SH, 0, 255, type=cv2.THRESH_OTSU)\n",
    "    ret2, VH = cv2.threshold(VH, 0, 255, type=cv2.THRESH_OTSU)\n",
    "    HSV_mask = cv2.bitwise_and(SH, VH)\n",
    "    cv2.imshow(\"HSVbin\", HSV_mask)\n",
    "\n",
    "\n"
   ]
  },
  {
   "cell_type": "code",
   "execution_count": 5,
   "id": "adde8987",
   "metadata": {},
   "outputs": [],
   "source": [
    "\n",
    "def find_hand_old(frame):\n",
    "    img = frame.copy()\n",
    "    gray = cv2.cvtColor(frame, cv2.COLOR_BGR2GRAY)\n",
    "    YCrCb_frame = cv2.cvtColor(frame, cv2.COLOR_BGR2YCrCb)\n",
    "    # YCrCb_frame = cv2.GaussianBlur(YCrCb_frame, (9, 9), 0)\n",
    "    YCrCb_frame = cv2.GaussianBlur(YCrCb_frame, (3, 3), 0)\n",
    "    # YCrCb_frame = cv2.GaussianBlur(YCrCb_frame, (1, 1), 0)\n",
    "    # cv2.imshow(\"YCrCb_frame_old\", YCrCb_frame)\n",
    "    # print(frame.shape[:2])\n",
    "    # mask = cv2.inRange(YCrCb_frame, np.array([0, 135, 97]), np.array([255, 177, 127]))#140 170 100 120\n",
    "    # mask = cv2.inRange(YCrCb_frame, np.array([0, 133, 77]), np.array([255, 173, 127])) # best enough\n",
    "    mask = cv2.inRange(YCrCb_frame, np.array([0, 127, 75]), np.array([255, 177, 130]))\n",
    "    bin_mask = mask\n",
    "\n",
    "    kernel = cv2.getStructuringElement(cv2.MORPH_ELLIPSE, (5, 5))\n",
    "    bin_mask = cv2.dilate(bin_mask, kernel, iterations=5)\n",
    "    res = cv2.bitwise_and(frame, frame, mask=bin_mask)\n",
    "\n",
    "    cv2.imshow(\"res_old\", res)\n",
    "\n",
    "    return img, bin_mask, res"
   ]
  },
  {
   "cell_type": "code",
   "execution_count": null,
   "id": "33772678",
   "metadata": {},
   "outputs": [],
   "source": []
  }
 ],
 "metadata": {
  "kernelspec": {
   "display_name": "Python 3 (ipykernel)",
   "language": "python",
   "name": "python3"
  },
  "language_info": {
   "codemirror_mode": {
    "name": "ipython",
    "version": 3
   },
   "file_extension": ".py",
   "mimetype": "text/x-python",
   "name": "python",
   "nbconvert_exporter": "python",
   "pygments_lexer": "ipython3",
   "version": "3.7.9"
  }
 },
 "nbformat": 4,
 "nbformat_minor": 5
}
